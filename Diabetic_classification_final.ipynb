{
  "nbformat": 4,
  "nbformat_minor": 0,
  "metadata": {
    "colab": {
      "provenance": []
    },
    "kernelspec": {
      "name": "python3",
      "display_name": "Python 3"
    },
    "language_info": {
      "name": "python"
    }
  },
  "cells": [
    {
      "cell_type": "code",
      "metadata": {
        "id": "Vb9BYCKJv7vi",
        "outputId": "333a2152-138f-4ff9-85af-575985886488",
        "colab": {
          "base_uri": "https://localhost:8080/"
        }
      },
      "source": [
        "from google.colab import drive\n",
        "drive.mount('/content/drive')"
      ],
      "execution_count": null,
      "outputs": [
        {
          "output_type": "stream",
          "name": "stdout",
          "text": [
            "Mounted at /content/drive\n"
          ]
        }
      ]
    },
    {
      "cell_type": "code",
      "source": [
        "import numpy as np\n",
        "import pandas as pd\n",
        "import sklearn"
      ],
      "metadata": {
        "id": "OVhPCCCm8fXU"
      },
      "execution_count": null,
      "outputs": []
    },
    {
      "cell_type": "code",
      "metadata": {
        "id": "Ui5vIWwQEAXU"
      },
      "source": [
        "dataset = pd.read_csv('/content/drive/MyDrive/Colab Notebooks/Dataset/diabetes1.csv')\n",
        "X = dataset.iloc[:, [0,1,2,3,4,5,6,7]].values\n",
        "y = dataset.iloc[:, -1].values"
      ],
      "execution_count": null,
      "outputs": []
    },
    {
      "cell_type": "code",
      "metadata": {
        "id": "oruxCjdh2KgW",
        "outputId": "735dd117-77d4-4fbb-af7f-19f81d6cf8cc",
        "colab": {
          "base_uri": "https://localhost:8080/"
        }
      },
      "source": [
        "dataset"
      ],
      "execution_count": null,
      "outputs": [
        {
          "output_type": "execute_result",
          "data": {
            "text/plain": [
              "     Pregnancies  Glucose  BloodPressure  SkinThickness  Insulin   BMI  \\\n",
              "0              6      148             72             35        0  33.6   \n",
              "1              1       85             66             29        0  26.6   \n",
              "2              8      183             64              0        0  23.3   \n",
              "3              1       89             66             23       94  28.1   \n",
              "4              0      137             40             35      168  43.1   \n",
              "..           ...      ...            ...            ...      ...   ...   \n",
              "763           10      101             76             48      180  32.9   \n",
              "764            2      122             70             27        0  36.8   \n",
              "765            5      121             72             23      112  26.2   \n",
              "766            1      126             60              0        0  30.1   \n",
              "767            1       93             70             31        0  30.4   \n",
              "\n",
              "     DiabetesPedigreeFunction  Age  Outcome  \n",
              "0                       0.627   50        1  \n",
              "1                       0.351   31        0  \n",
              "2                       0.672   32        1  \n",
              "3                       0.167   21        0  \n",
              "4                       2.288   33        1  \n",
              "..                        ...  ...      ...  \n",
              "763                     0.171   63        0  \n",
              "764                     0.340   27        0  \n",
              "765                     0.245   30        0  \n",
              "766                     0.349   47        1  \n",
              "767                     0.315   23        0  \n",
              "\n",
              "[768 rows x 9 columns]"
            ],
            "text/html": [
              "\n",
              "  <div id=\"df-0f99c08b-db0f-4ee7-b506-3bd1cf8b0a75\">\n",
              "    <div class=\"colab-df-container\">\n",
              "      <div>\n",
              "<style scoped>\n",
              "    .dataframe tbody tr th:only-of-type {\n",
              "        vertical-align: middle;\n",
              "    }\n",
              "\n",
              "    .dataframe tbody tr th {\n",
              "        vertical-align: top;\n",
              "    }\n",
              "\n",
              "    .dataframe thead th {\n",
              "        text-align: right;\n",
              "    }\n",
              "</style>\n",
              "<table border=\"1\" class=\"dataframe\">\n",
              "  <thead>\n",
              "    <tr style=\"text-align: right;\">\n",
              "      <th></th>\n",
              "      <th>Pregnancies</th>\n",
              "      <th>Glucose</th>\n",
              "      <th>BloodPressure</th>\n",
              "      <th>SkinThickness</th>\n",
              "      <th>Insulin</th>\n",
              "      <th>BMI</th>\n",
              "      <th>DiabetesPedigreeFunction</th>\n",
              "      <th>Age</th>\n",
              "      <th>Outcome</th>\n",
              "    </tr>\n",
              "  </thead>\n",
              "  <tbody>\n",
              "    <tr>\n",
              "      <th>0</th>\n",
              "      <td>6</td>\n",
              "      <td>148</td>\n",
              "      <td>72</td>\n",
              "      <td>35</td>\n",
              "      <td>0</td>\n",
              "      <td>33.6</td>\n",
              "      <td>0.627</td>\n",
              "      <td>50</td>\n",
              "      <td>1</td>\n",
              "    </tr>\n",
              "    <tr>\n",
              "      <th>1</th>\n",
              "      <td>1</td>\n",
              "      <td>85</td>\n",
              "      <td>66</td>\n",
              "      <td>29</td>\n",
              "      <td>0</td>\n",
              "      <td>26.6</td>\n",
              "      <td>0.351</td>\n",
              "      <td>31</td>\n",
              "      <td>0</td>\n",
              "    </tr>\n",
              "    <tr>\n",
              "      <th>2</th>\n",
              "      <td>8</td>\n",
              "      <td>183</td>\n",
              "      <td>64</td>\n",
              "      <td>0</td>\n",
              "      <td>0</td>\n",
              "      <td>23.3</td>\n",
              "      <td>0.672</td>\n",
              "      <td>32</td>\n",
              "      <td>1</td>\n",
              "    </tr>\n",
              "    <tr>\n",
              "      <th>3</th>\n",
              "      <td>1</td>\n",
              "      <td>89</td>\n",
              "      <td>66</td>\n",
              "      <td>23</td>\n",
              "      <td>94</td>\n",
              "      <td>28.1</td>\n",
              "      <td>0.167</td>\n",
              "      <td>21</td>\n",
              "      <td>0</td>\n",
              "    </tr>\n",
              "    <tr>\n",
              "      <th>4</th>\n",
              "      <td>0</td>\n",
              "      <td>137</td>\n",
              "      <td>40</td>\n",
              "      <td>35</td>\n",
              "      <td>168</td>\n",
              "      <td>43.1</td>\n",
              "      <td>2.288</td>\n",
              "      <td>33</td>\n",
              "      <td>1</td>\n",
              "    </tr>\n",
              "    <tr>\n",
              "      <th>...</th>\n",
              "      <td>...</td>\n",
              "      <td>...</td>\n",
              "      <td>...</td>\n",
              "      <td>...</td>\n",
              "      <td>...</td>\n",
              "      <td>...</td>\n",
              "      <td>...</td>\n",
              "      <td>...</td>\n",
              "      <td>...</td>\n",
              "    </tr>\n",
              "    <tr>\n",
              "      <th>763</th>\n",
              "      <td>10</td>\n",
              "      <td>101</td>\n",
              "      <td>76</td>\n",
              "      <td>48</td>\n",
              "      <td>180</td>\n",
              "      <td>32.9</td>\n",
              "      <td>0.171</td>\n",
              "      <td>63</td>\n",
              "      <td>0</td>\n",
              "    </tr>\n",
              "    <tr>\n",
              "      <th>764</th>\n",
              "      <td>2</td>\n",
              "      <td>122</td>\n",
              "      <td>70</td>\n",
              "      <td>27</td>\n",
              "      <td>0</td>\n",
              "      <td>36.8</td>\n",
              "      <td>0.340</td>\n",
              "      <td>27</td>\n",
              "      <td>0</td>\n",
              "    </tr>\n",
              "    <tr>\n",
              "      <th>765</th>\n",
              "      <td>5</td>\n",
              "      <td>121</td>\n",
              "      <td>72</td>\n",
              "      <td>23</td>\n",
              "      <td>112</td>\n",
              "      <td>26.2</td>\n",
              "      <td>0.245</td>\n",
              "      <td>30</td>\n",
              "      <td>0</td>\n",
              "    </tr>\n",
              "    <tr>\n",
              "      <th>766</th>\n",
              "      <td>1</td>\n",
              "      <td>126</td>\n",
              "      <td>60</td>\n",
              "      <td>0</td>\n",
              "      <td>0</td>\n",
              "      <td>30.1</td>\n",
              "      <td>0.349</td>\n",
              "      <td>47</td>\n",
              "      <td>1</td>\n",
              "    </tr>\n",
              "    <tr>\n",
              "      <th>767</th>\n",
              "      <td>1</td>\n",
              "      <td>93</td>\n",
              "      <td>70</td>\n",
              "      <td>31</td>\n",
              "      <td>0</td>\n",
              "      <td>30.4</td>\n",
              "      <td>0.315</td>\n",
              "      <td>23</td>\n",
              "      <td>0</td>\n",
              "    </tr>\n",
              "  </tbody>\n",
              "</table>\n",
              "<p>768 rows × 9 columns</p>\n",
              "</div>\n",
              "      <button class=\"colab-df-convert\" onclick=\"convertToInteractive('df-0f99c08b-db0f-4ee7-b506-3bd1cf8b0a75')\"\n",
              "              title=\"Convert this dataframe to an interactive table.\"\n",
              "              style=\"display:none;\">\n",
              "        \n",
              "  <svg xmlns=\"http://www.w3.org/2000/svg\" height=\"24px\"viewBox=\"0 0 24 24\"\n",
              "       width=\"24px\">\n",
              "    <path d=\"M0 0h24v24H0V0z\" fill=\"none\"/>\n",
              "    <path d=\"M18.56 5.44l.94 2.06.94-2.06 2.06-.94-2.06-.94-.94-2.06-.94 2.06-2.06.94zm-11 1L8.5 8.5l.94-2.06 2.06-.94-2.06-.94L8.5 2.5l-.94 2.06-2.06.94zm10 10l.94 2.06.94-2.06 2.06-.94-2.06-.94-.94-2.06-.94 2.06-2.06.94z\"/><path d=\"M17.41 7.96l-1.37-1.37c-.4-.4-.92-.59-1.43-.59-.52 0-1.04.2-1.43.59L10.3 9.45l-7.72 7.72c-.78.78-.78 2.05 0 2.83L4 21.41c.39.39.9.59 1.41.59.51 0 1.02-.2 1.41-.59l7.78-7.78 2.81-2.81c.8-.78.8-2.07 0-2.86zM5.41 20L4 18.59l7.72-7.72 1.47 1.35L5.41 20z\"/>\n",
              "  </svg>\n",
              "      </button>\n",
              "      \n",
              "  <style>\n",
              "    .colab-df-container {\n",
              "      display:flex;\n",
              "      flex-wrap:wrap;\n",
              "      gap: 12px;\n",
              "    }\n",
              "\n",
              "    .colab-df-convert {\n",
              "      background-color: #E8F0FE;\n",
              "      border: none;\n",
              "      border-radius: 50%;\n",
              "      cursor: pointer;\n",
              "      display: none;\n",
              "      fill: #1967D2;\n",
              "      height: 32px;\n",
              "      padding: 0 0 0 0;\n",
              "      width: 32px;\n",
              "    }\n",
              "\n",
              "    .colab-df-convert:hover {\n",
              "      background-color: #E2EBFA;\n",
              "      box-shadow: 0px 1px 2px rgba(60, 64, 67, 0.3), 0px 1px 3px 1px rgba(60, 64, 67, 0.15);\n",
              "      fill: #174EA6;\n",
              "    }\n",
              "\n",
              "    [theme=dark] .colab-df-convert {\n",
              "      background-color: #3B4455;\n",
              "      fill: #D2E3FC;\n",
              "    }\n",
              "\n",
              "    [theme=dark] .colab-df-convert:hover {\n",
              "      background-color: #434B5C;\n",
              "      box-shadow: 0px 1px 3px 1px rgba(0, 0, 0, 0.15);\n",
              "      filter: drop-shadow(0px 1px 2px rgba(0, 0, 0, 0.3));\n",
              "      fill: #FFFFFF;\n",
              "    }\n",
              "  </style>\n",
              "\n",
              "      <script>\n",
              "        const buttonEl =\n",
              "          document.querySelector('#df-0f99c08b-db0f-4ee7-b506-3bd1cf8b0a75 button.colab-df-convert');\n",
              "        buttonEl.style.display =\n",
              "          google.colab.kernel.accessAllowed ? 'block' : 'none';\n",
              "\n",
              "        async function convertToInteractive(key) {\n",
              "          const element = document.querySelector('#df-0f99c08b-db0f-4ee7-b506-3bd1cf8b0a75');\n",
              "          const dataTable =\n",
              "            await google.colab.kernel.invokeFunction('convertToInteractive',\n",
              "                                                     [key], {});\n",
              "          if (!dataTable) return;\n",
              "\n",
              "          const docLinkHtml = 'Like what you see? Visit the ' +\n",
              "            '<a target=\"_blank\" href=https://colab.research.google.com/notebooks/data_table.ipynb>data table notebook</a>'\n",
              "            + ' to learn more about interactive tables.';\n",
              "          element.innerHTML = '';\n",
              "          dataTable['output_type'] = 'display_data';\n",
              "          await google.colab.output.renderOutput(dataTable, element);\n",
              "          const docLink = document.createElement('div');\n",
              "          docLink.innerHTML = docLinkHtml;\n",
              "          element.appendChild(docLink);\n",
              "        }\n",
              "      </script>\n",
              "    </div>\n",
              "  </div>\n",
              "  "
            ]
          },
          "metadata": {},
          "execution_count": 4
        }
      ]
    },
    {
      "cell_type": "code",
      "source": [
        "X"
      ],
      "metadata": {
        "id": "M5PGFscU9N59",
        "outputId": "248d2ce7-ffe5-4077-c6ad-1596affc8045",
        "colab": {
          "base_uri": "https://localhost:8080/"
        }
      },
      "execution_count": null,
      "outputs": [
        {
          "output_type": "execute_result",
          "data": {
            "text/plain": [
              "array([[  6.   , 148.   ,  72.   , ...,  33.6  ,   0.627,  50.   ],\n",
              "       [  1.   ,  85.   ,  66.   , ...,  26.6  ,   0.351,  31.   ],\n",
              "       [  8.   , 183.   ,  64.   , ...,  23.3  ,   0.672,  32.   ],\n",
              "       ...,\n",
              "       [  5.   , 121.   ,  72.   , ...,  26.2  ,   0.245,  30.   ],\n",
              "       [  1.   , 126.   ,  60.   , ...,  30.1  ,   0.349,  47.   ],\n",
              "       [  1.   ,  93.   ,  70.   , ...,  30.4  ,   0.315,  23.   ]])"
            ]
          },
          "metadata": {},
          "execution_count": 5
        }
      ]
    },
    {
      "cell_type": "code",
      "source": [
        "y"
      ],
      "metadata": {
        "id": "AfECkXlEKTal",
        "outputId": "7ed14ab8-aa9e-4aaf-8ee2-b71b848fea66",
        "colab": {
          "base_uri": "https://localhost:8080/"
        }
      },
      "execution_count": null,
      "outputs": [
        {
          "output_type": "execute_result",
          "data": {
            "text/plain": [
              "array([1, 0, 1, 0, 1, 0, 1, 0, 1, 1, 0, 1, 0, 1, 1, 1, 1, 1, 0, 1, 0, 0,\n",
              "       1, 1, 1, 1, 1, 0, 0, 0, 0, 1, 0, 0, 0, 0, 0, 1, 1, 1, 0, 0, 0, 1,\n",
              "       0, 1, 0, 0, 1, 0, 0, 0, 0, 1, 0, 0, 1, 0, 0, 0, 0, 1, 0, 0, 1, 0,\n",
              "       1, 0, 0, 0, 1, 0, 1, 0, 0, 0, 0, 0, 1, 0, 0, 0, 0, 0, 1, 0, 0, 0,\n",
              "       1, 0, 0, 0, 0, 1, 0, 0, 0, 0, 0, 1, 1, 0, 0, 0, 0, 0, 0, 0, 0, 1,\n",
              "       1, 1, 0, 0, 1, 1, 1, 0, 0, 0, 1, 0, 0, 0, 1, 1, 0, 0, 1, 1, 1, 1,\n",
              "       1, 0, 0, 0, 0, 0, 0, 0, 0, 0, 0, 1, 0, 0, 0, 0, 0, 0, 0, 0, 1, 0,\n",
              "       1, 1, 0, 0, 0, 1, 0, 0, 0, 0, 1, 1, 0, 0, 0, 0, 1, 1, 0, 0, 0, 1,\n",
              "       0, 1, 0, 1, 0, 0, 0, 0, 0, 1, 1, 1, 1, 1, 0, 0, 1, 1, 0, 1, 0, 1,\n",
              "       1, 1, 0, 0, 0, 0, 0, 0, 1, 1, 0, 1, 0, 0, 0, 1, 1, 1, 1, 0, 1, 1,\n",
              "       1, 1, 0, 0, 0, 0, 0, 1, 0, 0, 1, 1, 0, 0, 0, 1, 1, 1, 1, 0, 0, 0,\n",
              "       1, 1, 0, 1, 0, 0, 0, 0, 0, 0, 0, 0, 1, 1, 0, 0, 0, 1, 0, 1, 0, 0,\n",
              "       1, 0, 1, 0, 0, 1, 1, 0, 0, 0, 0, 0, 1, 0, 0, 0, 1, 0, 0, 1, 1, 0,\n",
              "       0, 1, 0, 0, 0, 1, 1, 1, 0, 0, 1, 0, 1, 0, 1, 1, 0, 1, 0, 0, 1, 0,\n",
              "       1, 1, 0, 0, 1, 0, 1, 0, 0, 1, 0, 1, 0, 1, 1, 1, 0, 0, 1, 0, 1, 0,\n",
              "       0, 0, 1, 0, 0, 0, 0, 1, 1, 1, 0, 0, 0, 0, 0, 0, 0, 0, 0, 1, 0, 0,\n",
              "       0, 0, 0, 1, 1, 1, 0, 1, 1, 0, 0, 1, 0, 0, 1, 0, 0, 1, 1, 0, 0, 0,\n",
              "       0, 1, 0, 0, 1, 0, 0, 0, 0, 0, 0, 0, 1, 1, 1, 0, 0, 1, 0, 0, 1, 0,\n",
              "       0, 1, 0, 1, 1, 0, 1, 0, 1, 0, 1, 0, 1, 1, 0, 0, 0, 0, 1, 1, 0, 1,\n",
              "       0, 1, 0, 0, 0, 0, 1, 1, 0, 1, 0, 1, 0, 0, 0, 0, 0, 1, 0, 0, 0, 0,\n",
              "       1, 0, 0, 1, 1, 1, 0, 0, 1, 0, 0, 1, 0, 0, 0, 1, 0, 0, 1, 0, 0, 0,\n",
              "       0, 0, 0, 0, 0, 0, 1, 0, 0, 0, 0, 0, 0, 0, 1, 0, 0, 0, 1, 0, 0, 0,\n",
              "       1, 1, 0, 0, 0, 0, 0, 0, 0, 1, 0, 0, 0, 0, 1, 0, 0, 0, 1, 0, 0, 0,\n",
              "       1, 0, 0, 0, 1, 0, 0, 0, 0, 1, 1, 0, 0, 0, 0, 0, 0, 1, 0, 0, 0, 0,\n",
              "       0, 0, 0, 0, 0, 0, 0, 1, 0, 0, 0, 1, 1, 1, 1, 0, 0, 1, 1, 0, 0, 0,\n",
              "       0, 0, 0, 0, 0, 0, 0, 0, 0, 0, 1, 1, 0, 0, 0, 0, 0, 0, 0, 1, 0, 0,\n",
              "       0, 0, 0, 0, 0, 1, 0, 1, 1, 0, 0, 0, 1, 0, 1, 0, 1, 0, 1, 0, 1, 0,\n",
              "       0, 1, 0, 0, 1, 0, 0, 0, 0, 1, 1, 0, 1, 0, 0, 0, 0, 1, 1, 0, 1, 0,\n",
              "       0, 0, 1, 1, 0, 0, 0, 0, 0, 0, 0, 0, 0, 0, 1, 0, 0, 0, 0, 1, 0, 0,\n",
              "       1, 0, 0, 0, 1, 0, 0, 0, 1, 1, 1, 0, 0, 0, 0, 0, 0, 1, 0, 0, 0, 1,\n",
              "       0, 1, 1, 1, 1, 0, 1, 1, 0, 0, 0, 0, 0, 0, 0, 1, 1, 0, 1, 0, 0, 1,\n",
              "       0, 1, 0, 0, 0, 0, 0, 1, 0, 1, 0, 1, 0, 1, 1, 0, 0, 0, 0, 1, 1, 0,\n",
              "       0, 0, 1, 0, 1, 1, 0, 0, 1, 0, 0, 1, 1, 0, 0, 1, 0, 0, 1, 0, 0, 0,\n",
              "       0, 0, 0, 0, 1, 1, 1, 0, 0, 0, 0, 0, 0, 1, 1, 0, 0, 1, 0, 0, 1, 0,\n",
              "       1, 1, 1, 0, 0, 1, 1, 1, 0, 1, 0, 1, 0, 1, 0, 0, 0, 0, 1, 0])"
            ]
          },
          "metadata": {},
          "execution_count": 6
        }
      ]
    },
    {
      "cell_type": "code",
      "source": [
        "X.shape"
      ],
      "metadata": {
        "id": "7QSzzCe3Kam9",
        "outputId": "300bebdf-f237-493d-b010-4ce092a7044d",
        "colab": {
          "base_uri": "https://localhost:8080/"
        }
      },
      "execution_count": null,
      "outputs": [
        {
          "output_type": "execute_result",
          "data": {
            "text/plain": [
              "(768, 8)"
            ]
          },
          "metadata": {},
          "execution_count": 7
        }
      ]
    },
    {
      "cell_type": "code",
      "source": [
        "from sklearn.preprocessing import MinMaxScaler\n",
        "sc = MinMaxScaler()\n",
        "X = sc.fit_transform(X)"
      ],
      "metadata": {
        "id": "MthF5ejccJtC"
      },
      "execution_count": null,
      "outputs": []
    },
    {
      "cell_type": "code",
      "source": [
        "X"
      ],
      "metadata": {
        "colab": {
          "base_uri": "https://localhost:8080/"
        },
        "id": "aqdQbQOcqfts",
        "outputId": "5e0225db-dc2b-402b-dde4-8475ad1ed09b"
      },
      "execution_count": null,
      "outputs": [
        {
          "output_type": "execute_result",
          "data": {
            "text/plain": [
              "array([[0.35294118, 0.74371859, 0.59016393, ..., 0.50074516, 0.23441503,\n",
              "        0.48333333],\n",
              "       [0.05882353, 0.42713568, 0.54098361, ..., 0.39642325, 0.11656704,\n",
              "        0.16666667],\n",
              "       [0.47058824, 0.91959799, 0.52459016, ..., 0.34724292, 0.25362938,\n",
              "        0.18333333],\n",
              "       ...,\n",
              "       [0.29411765, 0.6080402 , 0.59016393, ..., 0.390462  , 0.07130658,\n",
              "        0.15      ],\n",
              "       [0.05882353, 0.63316583, 0.49180328, ..., 0.4485842 , 0.11571307,\n",
              "        0.43333333],\n",
              "       [0.05882353, 0.46733668, 0.57377049, ..., 0.45305514, 0.10119556,\n",
              "        0.03333333]])"
            ]
          },
          "metadata": {},
          "execution_count": 9
        }
      ]
    },
    {
      "cell_type": "code",
      "source": [
        "from sklearn.model_selection import train_test_split\n",
        "X_train, X_test, y_train, y_test = train_test_split(X, y, test_size = 0.20, random_state =12 )"
      ],
      "metadata": {
        "id": "l3nbRXFDKdFI"
      },
      "execution_count": null,
      "outputs": []
    },
    {
      "cell_type": "code",
      "source": [
        " X_train.shape"
      ],
      "metadata": {
        "id": "dit8zDXHKi6r",
        "outputId": "8201258e-208c-44ae-8c19-4a0eeca70faa",
        "colab": {
          "base_uri": "https://localhost:8080/"
        }
      },
      "execution_count": null,
      "outputs": [
        {
          "output_type": "execute_result",
          "data": {
            "text/plain": [
              "(614, 8)"
            ]
          },
          "metadata": {},
          "execution_count": 11
        }
      ]
    },
    {
      "cell_type": "code",
      "source": [
        "X_test.shape"
      ],
      "metadata": {
        "colab": {
          "base_uri": "https://localhost:8080/"
        },
        "id": "ES1l8eSYiUHm",
        "outputId": "87490f59-3937-405b-9329-5d6d234e7774"
      },
      "execution_count": null,
      "outputs": [
        {
          "output_type": "execute_result",
          "data": {
            "text/plain": [
              "(154, 8)"
            ]
          },
          "metadata": {},
          "execution_count": 12
        }
      ]
    },
    {
      "cell_type": "code",
      "source": [
        "from tensorflow.keras.models import Sequential\n",
        "from tensorflow.keras.layers import Dense\n",
        "from tensorflow.keras.optimizers import Adam"
      ],
      "metadata": {
        "id": "_tehywKG46QJ"
      },
      "execution_count": null,
      "outputs": []
    },
    {
      "cell_type": "code",
      "source": [
        "model = Sequential()\n",
        "model.add(Dense(8, input_dim=8, activation='relu',name='input_layer_1'))\n",
        "model.add(Dense(4, activation='relu', name='hidden_layer_1'))\n",
        "model.add(Dense(2, activation='relu', name='hidden_layer_2'))\n",
        "model.add(Dense(1, activation='sigmoid', name='output_layer'))\n",
        "model.compile(loss='binary_crossentropy', optimizer=Adam(learning_rate=0.001), metrics=['accuracy'])"
      ],
      "metadata": {
        "id": "y_Rig5bp48Tu"
      },
      "execution_count": null,
      "outputs": []
    },
    {
      "cell_type": "code",
      "source": [
        "model.summary()"
      ],
      "metadata": {
        "id": "S17eisyq48RZ",
        "outputId": "ce96d662-bb7a-490f-9a7f-6bf2126a862c",
        "colab": {
          "base_uri": "https://localhost:8080/"
        }
      },
      "execution_count": null,
      "outputs": [
        {
          "output_type": "stream",
          "name": "stdout",
          "text": [
            "Model: \"sequential\"\n",
            "_________________________________________________________________\n",
            " Layer (type)                Output Shape              Param #   \n",
            "=================================================================\n",
            " input_layer_1 (Dense)       (None, 8)                 72        \n",
            "                                                                 \n",
            " hidden_layer_1 (Dense)      (None, 4)                 36        \n",
            "                                                                 \n",
            " hidden_layer_2 (Dense)      (None, 2)                 10        \n",
            "                                                                 \n",
            " output_layer (Dense)        (None, 1)                 3         \n",
            "                                                                 \n",
            "=================================================================\n",
            "Total params: 121\n",
            "Trainable params: 121\n",
            "Non-trainable params: 0\n",
            "_________________________________________________________________\n"
          ]
        }
      ]
    },
    {
      "cell_type": "code",
      "source": [
        "history = model.fit(X_train, y_train, epochs = 100, batch_size = 9)"
      ],
      "metadata": {
        "id": "4Q2ahOVY47xQ",
        "outputId": "a1899b46-b511-418f-9cf0-8a86165e6f74",
        "colab": {
          "base_uri": "https://localhost:8080/"
        }
      },
      "execution_count": null,
      "outputs": [
        {
          "output_type": "stream",
          "name": "stdout",
          "text": [
            "Epoch 1/100\n",
            "69/69 [==============================] - 1s 2ms/step - loss: 0.6546 - accuracy: 0.6531\n",
            "Epoch 2/100\n",
            "69/69 [==============================] - 0s 2ms/step - loss: 0.6423 - accuracy: 0.6531\n",
            "Epoch 3/100\n",
            "69/69 [==============================] - 0s 1ms/step - loss: 0.6348 - accuracy: 0.6531\n",
            "Epoch 4/100\n",
            "69/69 [==============================] - 0s 1ms/step - loss: 0.6258 - accuracy: 0.6531\n",
            "Epoch 5/100\n",
            "69/69 [==============================] - 0s 2ms/step - loss: 0.6180 - accuracy: 0.6531\n",
            "Epoch 6/100\n",
            "69/69 [==============================] - 0s 2ms/step - loss: 0.6097 - accuracy: 0.6531\n",
            "Epoch 7/100\n",
            "69/69 [==============================] - 0s 2ms/step - loss: 0.6023 - accuracy: 0.6531\n",
            "Epoch 8/100\n",
            "69/69 [==============================] - 0s 2ms/step - loss: 0.5974 - accuracy: 0.6531\n",
            "Epoch 9/100\n",
            "69/69 [==============================] - 0s 2ms/step - loss: 0.5892 - accuracy: 0.6531\n",
            "Epoch 10/100\n",
            "69/69 [==============================] - 0s 2ms/step - loss: 0.5823 - accuracy: 0.6531\n",
            "Epoch 11/100\n",
            "69/69 [==============================] - 0s 2ms/step - loss: 0.5784 - accuracy: 0.6531\n",
            "Epoch 12/100\n",
            "69/69 [==============================] - 0s 2ms/step - loss: 0.5716 - accuracy: 0.6531\n",
            "Epoch 13/100\n",
            "69/69 [==============================] - 0s 2ms/step - loss: 0.5683 - accuracy: 0.6531\n",
            "Epoch 14/100\n",
            "69/69 [==============================] - 0s 2ms/step - loss: 0.5626 - accuracy: 0.6531\n",
            "Epoch 15/100\n",
            "69/69 [==============================] - 0s 2ms/step - loss: 0.5573 - accuracy: 0.6531\n",
            "Epoch 16/100\n",
            "69/69 [==============================] - 0s 2ms/step - loss: 0.5526 - accuracy: 0.6922\n",
            "Epoch 17/100\n",
            "69/69 [==============================] - 0s 1ms/step - loss: 0.5496 - accuracy: 0.7166\n",
            "Epoch 18/100\n",
            "69/69 [==============================] - 0s 1ms/step - loss: 0.5475 - accuracy: 0.6906\n",
            "Epoch 19/100\n",
            "69/69 [==============================] - 0s 2ms/step - loss: 0.5419 - accuracy: 0.7215\n",
            "Epoch 20/100\n",
            "69/69 [==============================] - 0s 2ms/step - loss: 0.5398 - accuracy: 0.7085\n",
            "Epoch 21/100\n",
            "69/69 [==============================] - 0s 2ms/step - loss: 0.5367 - accuracy: 0.7166\n",
            "Epoch 22/100\n",
            "69/69 [==============================] - 0s 2ms/step - loss: 0.5337 - accuracy: 0.7199\n",
            "Epoch 23/100\n",
            "69/69 [==============================] - 0s 1ms/step - loss: 0.5314 - accuracy: 0.7150\n",
            "Epoch 24/100\n",
            "69/69 [==============================] - 0s 2ms/step - loss: 0.5307 - accuracy: 0.7280\n",
            "Epoch 25/100\n",
            "69/69 [==============================] - 0s 2ms/step - loss: 0.5273 - accuracy: 0.7264\n",
            "Epoch 26/100\n",
            "69/69 [==============================] - 0s 2ms/step - loss: 0.5223 - accuracy: 0.7296\n",
            "Epoch 27/100\n",
            "69/69 [==============================] - 0s 2ms/step - loss: 0.5196 - accuracy: 0.7231\n",
            "Epoch 28/100\n",
            "69/69 [==============================] - 0s 2ms/step - loss: 0.5178 - accuracy: 0.7362\n",
            "Epoch 29/100\n",
            "69/69 [==============================] - 0s 2ms/step - loss: 0.5158 - accuracy: 0.7248\n",
            "Epoch 30/100\n",
            "69/69 [==============================] - 0s 2ms/step - loss: 0.5162 - accuracy: 0.7329\n",
            "Epoch 31/100\n",
            "69/69 [==============================] - 0s 2ms/step - loss: 0.5132 - accuracy: 0.7329\n",
            "Epoch 32/100\n",
            "69/69 [==============================] - 0s 2ms/step - loss: 0.5099 - accuracy: 0.7313\n",
            "Epoch 33/100\n",
            "69/69 [==============================] - 0s 2ms/step - loss: 0.5082 - accuracy: 0.7345\n",
            "Epoch 34/100\n",
            "69/69 [==============================] - 0s 2ms/step - loss: 0.5079 - accuracy: 0.7378\n",
            "Epoch 35/100\n",
            "69/69 [==============================] - 0s 2ms/step - loss: 0.5054 - accuracy: 0.7362\n",
            "Epoch 36/100\n",
            "69/69 [==============================] - 0s 2ms/step - loss: 0.5053 - accuracy: 0.7296\n",
            "Epoch 37/100\n",
            "69/69 [==============================] - 0s 2ms/step - loss: 0.5027 - accuracy: 0.7410\n",
            "Epoch 38/100\n",
            "69/69 [==============================] - 0s 2ms/step - loss: 0.5004 - accuracy: 0.7313\n",
            "Epoch 39/100\n",
            "69/69 [==============================] - 0s 1ms/step - loss: 0.5035 - accuracy: 0.7394\n",
            "Epoch 40/100\n",
            "69/69 [==============================] - 0s 1ms/step - loss: 0.5022 - accuracy: 0.7378\n",
            "Epoch 41/100\n",
            "69/69 [==============================] - 0s 2ms/step - loss: 0.4985 - accuracy: 0.7443\n",
            "Epoch 42/100\n",
            "69/69 [==============================] - 0s 2ms/step - loss: 0.4993 - accuracy: 0.7476\n",
            "Epoch 43/100\n",
            "69/69 [==============================] - 0s 1ms/step - loss: 0.4965 - accuracy: 0.7427\n",
            "Epoch 44/100\n",
            "69/69 [==============================] - 0s 2ms/step - loss: 0.4952 - accuracy: 0.7476\n",
            "Epoch 45/100\n",
            "69/69 [==============================] - 0s 2ms/step - loss: 0.4944 - accuracy: 0.7508\n",
            "Epoch 46/100\n",
            "69/69 [==============================] - 0s 2ms/step - loss: 0.4950 - accuracy: 0.7345\n",
            "Epoch 47/100\n",
            "69/69 [==============================] - 0s 1ms/step - loss: 0.4937 - accuracy: 0.7394\n",
            "Epoch 48/100\n",
            "69/69 [==============================] - 0s 2ms/step - loss: 0.4923 - accuracy: 0.7394\n",
            "Epoch 49/100\n",
            "69/69 [==============================] - 0s 1ms/step - loss: 0.4918 - accuracy: 0.7362\n",
            "Epoch 50/100\n",
            "69/69 [==============================] - 0s 2ms/step - loss: 0.4909 - accuracy: 0.7378\n",
            "Epoch 51/100\n",
            "69/69 [==============================] - 0s 2ms/step - loss: 0.4899 - accuracy: 0.7459\n",
            "Epoch 52/100\n",
            "69/69 [==============================] - 0s 1ms/step - loss: 0.4903 - accuracy: 0.7410\n",
            "Epoch 53/100\n",
            "69/69 [==============================] - 0s 2ms/step - loss: 0.4882 - accuracy: 0.7443\n",
            "Epoch 54/100\n",
            "69/69 [==============================] - 0s 2ms/step - loss: 0.4882 - accuracy: 0.7459\n",
            "Epoch 55/100\n",
            "69/69 [==============================] - 0s 2ms/step - loss: 0.4863 - accuracy: 0.7508\n",
            "Epoch 56/100\n",
            "69/69 [==============================] - 0s 2ms/step - loss: 0.4900 - accuracy: 0.7459\n",
            "Epoch 57/100\n",
            "69/69 [==============================] - 0s 2ms/step - loss: 0.4859 - accuracy: 0.7476\n",
            "Epoch 58/100\n",
            "69/69 [==============================] - 0s 2ms/step - loss: 0.4856 - accuracy: 0.7524\n",
            "Epoch 59/100\n",
            "69/69 [==============================] - 0s 2ms/step - loss: 0.4893 - accuracy: 0.7524\n",
            "Epoch 60/100\n",
            "69/69 [==============================] - 0s 1ms/step - loss: 0.4880 - accuracy: 0.7443\n",
            "Epoch 61/100\n",
            "69/69 [==============================] - 0s 2ms/step - loss: 0.4836 - accuracy: 0.7410\n",
            "Epoch 62/100\n",
            "69/69 [==============================] - 0s 2ms/step - loss: 0.4835 - accuracy: 0.7427\n",
            "Epoch 63/100\n",
            "69/69 [==============================] - 0s 2ms/step - loss: 0.4829 - accuracy: 0.7459\n",
            "Epoch 64/100\n",
            "69/69 [==============================] - 0s 1ms/step - loss: 0.4826 - accuracy: 0.7541\n",
            "Epoch 65/100\n",
            "69/69 [==============================] - 0s 1ms/step - loss: 0.4824 - accuracy: 0.7557\n",
            "Epoch 66/100\n",
            "69/69 [==============================] - 0s 2ms/step - loss: 0.4835 - accuracy: 0.7443\n",
            "Epoch 67/100\n",
            "69/69 [==============================] - 0s 1ms/step - loss: 0.4821 - accuracy: 0.7378\n",
            "Epoch 68/100\n",
            "69/69 [==============================] - 0s 2ms/step - loss: 0.4814 - accuracy: 0.7443\n",
            "Epoch 69/100\n",
            "69/69 [==============================] - 0s 2ms/step - loss: 0.4800 - accuracy: 0.7476\n",
            "Epoch 70/100\n",
            "69/69 [==============================] - 0s 2ms/step - loss: 0.4799 - accuracy: 0.7443\n",
            "Epoch 71/100\n",
            "69/69 [==============================] - 0s 2ms/step - loss: 0.4794 - accuracy: 0.7459\n",
            "Epoch 72/100\n",
            "69/69 [==============================] - 0s 2ms/step - loss: 0.4801 - accuracy: 0.7459\n",
            "Epoch 73/100\n",
            "69/69 [==============================] - 0s 2ms/step - loss: 0.4791 - accuracy: 0.7443\n",
            "Epoch 74/100\n",
            "69/69 [==============================] - 0s 2ms/step - loss: 0.4801 - accuracy: 0.7443\n",
            "Epoch 75/100\n",
            "69/69 [==============================] - 0s 1ms/step - loss: 0.4788 - accuracy: 0.7443\n",
            "Epoch 76/100\n",
            "69/69 [==============================] - 0s 2ms/step - loss: 0.4755 - accuracy: 0.7508\n",
            "Epoch 77/100\n",
            "69/69 [==============================] - 0s 2ms/step - loss: 0.4770 - accuracy: 0.7492\n",
            "Epoch 78/100\n",
            "69/69 [==============================] - 0s 2ms/step - loss: 0.4788 - accuracy: 0.7476\n",
            "Epoch 79/100\n",
            "69/69 [==============================] - 0s 2ms/step - loss: 0.4742 - accuracy: 0.7590\n",
            "Epoch 80/100\n",
            "69/69 [==============================] - 0s 2ms/step - loss: 0.4739 - accuracy: 0.7541\n",
            "Epoch 81/100\n",
            "69/69 [==============================] - 0s 2ms/step - loss: 0.4743 - accuracy: 0.7541\n",
            "Epoch 82/100\n",
            "69/69 [==============================] - 0s 2ms/step - loss: 0.4741 - accuracy: 0.7476\n",
            "Epoch 83/100\n",
            "69/69 [==============================] - 0s 2ms/step - loss: 0.4741 - accuracy: 0.7541\n",
            "Epoch 84/100\n",
            "69/69 [==============================] - 0s 2ms/step - loss: 0.4706 - accuracy: 0.7427\n",
            "Epoch 85/100\n",
            "69/69 [==============================] - 0s 1ms/step - loss: 0.4724 - accuracy: 0.7590\n",
            "Epoch 86/100\n",
            "69/69 [==============================] - 0s 2ms/step - loss: 0.4723 - accuracy: 0.7606\n",
            "Epoch 87/100\n",
            "69/69 [==============================] - 0s 2ms/step - loss: 0.4716 - accuracy: 0.7541\n",
            "Epoch 88/100\n",
            "69/69 [==============================] - 0s 1ms/step - loss: 0.4716 - accuracy: 0.7590\n",
            "Epoch 89/100\n",
            "69/69 [==============================] - 0s 2ms/step - loss: 0.4727 - accuracy: 0.7622\n",
            "Epoch 90/100\n",
            "69/69 [==============================] - 0s 2ms/step - loss: 0.4694 - accuracy: 0.7557\n",
            "Epoch 91/100\n",
            "69/69 [==============================] - 0s 2ms/step - loss: 0.4706 - accuracy: 0.7541\n",
            "Epoch 92/100\n",
            "69/69 [==============================] - 0s 1ms/step - loss: 0.4738 - accuracy: 0.7573\n",
            "Epoch 93/100\n",
            "69/69 [==============================] - 0s 2ms/step - loss: 0.4702 - accuracy: 0.7590\n",
            "Epoch 94/100\n",
            "69/69 [==============================] - 0s 1ms/step - loss: 0.4682 - accuracy: 0.7573\n",
            "Epoch 95/100\n",
            "69/69 [==============================] - 0s 2ms/step - loss: 0.4693 - accuracy: 0.7524\n",
            "Epoch 96/100\n",
            "69/69 [==============================] - 0s 2ms/step - loss: 0.4676 - accuracy: 0.7606\n",
            "Epoch 97/100\n",
            "69/69 [==============================] - 0s 2ms/step - loss: 0.4675 - accuracy: 0.7557\n",
            "Epoch 98/100\n",
            "69/69 [==============================] - 0s 2ms/step - loss: 0.4659 - accuracy: 0.7541\n",
            "Epoch 99/100\n",
            "69/69 [==============================] - 0s 2ms/step - loss: 0.4679 - accuracy: 0.7557\n",
            "Epoch 100/100\n",
            "69/69 [==============================] - 0s 1ms/step - loss: 0.4673 - accuracy: 0.7508\n"
          ]
        }
      ]
    },
    {
      "cell_type": "code",
      "source": [
        "acc = history.history['accuracy']\n",
        "loss = history.history['loss']"
      ],
      "metadata": {
        "id": "OTevHWyTQEaw"
      },
      "execution_count": null,
      "outputs": []
    },
    {
      "cell_type": "code",
      "source": [
        "from matplotlib import pyplot as plt\n",
        "plt.plot(acc)\n",
        "plt.title('model accuracy')\n",
        "plt.ylabel('accuracy')\n",
        "plt.xlabel('epoch')\n",
        "plt.legend(['train'], loc = 'upper left')\n",
        "plt.show()\n",
        "plt.savefig('accuracy_curve.png')"
      ],
      "metadata": {
        "id": "qVix_REXQM6g",
        "outputId": "47f39989-4480-4800-ca38-5f9ba81f58e3",
        "colab": {
          "base_uri": "https://localhost:8080/"
        }
      },
      "execution_count": null,
      "outputs": [
        {
          "output_type": "display_data",
          "data": {
            "text/plain": [
              "<Figure size 432x288 with 1 Axes>"
            ],
            "image/png": "[encoded data removed]"
          },
          "metadata": {
            "needs_background": "light"
          }
        },
        {
          "output_type": "display_data",
          "data": {
            "text/plain": [
              "<Figure size 432x288 with 0 Axes>"
            ]
          },
          "metadata": {}
        }
      ]
    },
    {
      "cell_type": "code",
      "source": [
        "plt.plot(history.history['loss'])\n",
        "plt.title('model loss')\n",
        "plt.ylabel('loss')\n",
        "plt.xlabel('epoch')\n",
        "plt.legend(['train'], loc = 'lower left')\n",
        "plt.show()\n",
        "plt.savefig('loss_curve.png')"
      ],
      "metadata": {
        "id": "1HGqz9QZflbp",
        "outputId": "2793b501-3520-459a-8b51-0940e7237d3b",
        "colab": {
          "base_uri": "https://localhost:8080/",
          "height": 75
        }
      },
      "execution_count": null,
      "outputs": [
        {
          "output_type": "display_data",
          "data": {
            "text/plain": [
              "<Figure size 432x288 with 1 Axes>"
            ],
            "image/png": "[encoded data removed]"
          },
          "metadata": {
            "needs_background": "light"
          }
        },
        {
          "output_type": "display_data",
          "data": {
            "text/plain": [
              "<Figure size 432x288 with 0 Axes>"
            ]
          },
          "metadata": {}
        }
      ]
    },
    {
      "cell_type": "code",
      "source": [
        "history_test = model.evaluate(X_test, y_test)"
      ],
      "metadata": {
        "id": "2y-d2Em7QUux",
        "outputId": "86e50f60-2997-44b5-ee92-b7a15661e0d2",
        "colab": {
          "base_uri": "https://localhost:8080/"
        }
      },
      "execution_count": null,
      "outputs": [
        {
          "output_type": "stream",
          "name": "stdout",
          "text": [
            "5/5 [==============================] - 0s 3ms/step - loss: 0.5393 - accuracy: 0.7727\n"
          ]
        }
      ]
    },
    {
      "cell_type": "code",
      "source": [
        "history_test"
      ],
      "metadata": {
        "id": "p1teRBQ0QY92",
        "outputId": "e2d69487-a719-4305-fa69-14f0e5edaffd",
        "colab": {
          "base_uri": "https://localhost:8080/"
        }
      },
      "execution_count": null,
      "outputs": [
        {
          "output_type": "execute_result",
          "data": {
            "text/plain": [
              "[0.5392680168151855, 0.7727272510528564]"
            ]
          },
          "metadata": {},
          "execution_count": 21
        }
      ]
    }
  ]
}